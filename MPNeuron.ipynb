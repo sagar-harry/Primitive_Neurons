{
  "nbformat": 4,
  "nbformat_minor": 0,
  "metadata": {
    "colab": {
      "name": "MPNeuron",
      "provenance": []
    },
    "kernelspec": {
      "name": "python3",
      "display_name": "Python 3"
    },
    "language_info": {
      "name": "python"
    }
  },
  "cells": [
    {
      "cell_type": "markdown",
      "metadata": {
        "id": "z4WS7hsv11yD"
      },
      "source": [
        "# Preprocessing data"
      ]
    },
    {
      "cell_type": "code",
      "metadata": {
        "id": "Vx_qaBL00wxi"
      },
      "source": [
        "import pandas as pd\n",
        "import numpy as np\n",
        "\n",
        "import matplotlib.pyplot as plt\n",
        "import matplotlib.colors \n",
        "\n",
        "from sklearn.preprocessing import MinMaxScaler, StandardScaler\n",
        "from sklearn.metrics import accuracy_score, log_loss\n",
        "from sklearn.model_selection import train_test_split\n",
        "\n",
        "from tqdm import tqdm_notebook"
      ],
      "execution_count": 1,
      "outputs": []
    },
    {
      "cell_type": "code",
      "metadata": {
        "id": "1Bww_GFR1DMm"
      },
      "source": [
        "my_cmap = matplotlib.colors.LinearSegmentedColormap.from_list(\"\", [\"red\", \"yellow\", \"green\"])\n",
        "import seaborn as sns\n",
        "sns.set()"
      ],
      "execution_count": 2,
      "outputs": []
    },
    {
      "cell_type": "code",
      "metadata": {
        "id": "mPhwMwN61FN_"
      },
      "source": [
        "df = pd.read_csv(\"mobile_cleaned.csv\")"
      ],
      "execution_count": 3,
      "outputs": []
    },
    {
      "cell_type": "code",
      "metadata": {
        "id": "Aq16G3FB1Iia"
      },
      "source": [
        "PhoneId = df[\"PhoneId\"]\n",
        "Rating = df[\"Rating\"]\n",
        "df = df.drop(\"PhoneId\", axis=1).drop(\"Rating\", axis=1)"
      ],
      "execution_count": 4,
      "outputs": []
    },
    {
      "cell_type": "code",
      "metadata": {
        "id": "EnABIRoO1JUW"
      },
      "source": [
        "Rating = Rating.values"
      ],
      "execution_count": 5,
      "outputs": []
    },
    {
      "cell_type": "code",
      "metadata": {
        "id": "qT54I-qh2qVz"
      },
      "source": [
        "min_max_scaler = MinMaxScaler()\n",
        "Rating_s = min_max_scaler.fit_transform(Rating.reshape(-1,1))\n",
        "threshold = 4.1\n",
        "threshold_s = min_max_scaler.transform(np.array(threshold).reshape(-1,1))\n",
        "Rating_b = list(map(lambda x:0 if x<threshold_s else 1, Rating_s))"
      ],
      "execution_count": 6,
      "outputs": []
    },
    {
      "cell_type": "code",
      "metadata": {
        "id": "6MbLmeZc1-SK"
      },
      "source": [
        "dfo = df.copy()"
      ],
      "execution_count": 7,
      "outputs": []
    },
    {
      "cell_type": "code",
      "metadata": {
        "id": "qMczODqK1_-C"
      },
      "source": [
        "dfo[\"Pixel Density\"] = pd.qcut(np.array(dfo[\"Pixel Density\"]), q=3, labels=[-1,0,1])\n",
        "dfo[\"Screen Size\"] = pd.qcut(np.array(dfo[\"Screen Size\"]), q=3, labels=[-1,0,1])\n",
        "dfo[\"Weight\"] = pd.qcut(np.array(dfo[\"Weight\"]), q=3, labels=[-1,0,1])\n",
        "dfo[\"RAM\"] = pd.qcut(np.array(dfo[\"RAM\"]), q=3, labels=[-1,0,1])\n",
        "dfo[\"Processor_frequency\"] = pd.qcut(np.array(dfo[\"Processor_frequency\"]), q=3, labels=[-1,0,1])\n",
        "dfo[\"Screen to Body Ratio (calculated)\"] = pd.qcut(np.array(dfo[\"Screen to Body Ratio (calculated)\"]), q=3, labels=[-1,0,1])\n",
        "dfo[\"Height\"] = pd.qcut(np.array(dfo[\"Height\"]), q=3, labels=[-1,0,1])\n",
        "dfo[\"Internal Memory\"] = pd.qcut(np.array(dfo[\"Internal Memory\"]), q=3, labels=[-1,0,1])\n",
        "dfo[\"Capacity\"] = pd.qcut(np.array(dfo[\"Capacity\"]), q=3, labels=[-1,0,1])\n",
        "dfo[\"Resolution\"] = pd.qcut(np.array(dfo[\"Resolution\"]), q=3, labels=[-1,0,1])"
      ],
      "execution_count": 8,
      "outputs": []
    },
    {
      "cell_type": "code",
      "metadata": {
        "id": "sbtqjawx2CCS"
      },
      "source": [
        "dfo[\"Pixel Density\"] = np.array(list(map(lambda x:1 if x>0 else 0, np.array(dfo[\"Pixel Density\"]))))\n",
        "dfo[\"Screen Size\"] = np.array(list(map(lambda x:1 if x>0 else 0, np.array(dfo[\"Screen Size\"]))))\n",
        "dfo[\"Weight\"] = np.array(list(map(lambda x:1 if x>0 else 0, np.array(dfo[\"Weight\"]))))\n",
        "dfo[\"RAM\"] = np.array(list(map(lambda x:1 if x>0 else 0, np.array(dfo[\"RAM\"]))))\n",
        "dfo[\"Processor_frequency\"] = np.array(list(map(lambda x:1 if x>0 else 0, np.array(dfo[\"Processor_frequency\"]))))\n",
        "dfo[\"Screen to Body Ratio (calculated)\"] = np.array(list(map(lambda x:1 if x>0 else 0, np.array(dfo[\"Screen to Body Ratio (calculated)\"]))))\n",
        "dfo[\"Height\"] = np.array(list(map(lambda x:1 if x>0 else 0, np.array(dfo[\"Height\"]))))\n",
        "dfo[\"Internal Memory\"] = np.array(list(map(lambda x:1 if x>0 else 0, np.array(dfo[\"Internal Memory\"]))))\n",
        "dfo[\"Capacity\"] = np.array(list(map(lambda x:1 if x>0 else 0, np.array(dfo[\"Capacity\"]))))\n",
        "dfo[\"Resolution\"] = np.array(list(map(lambda x:1 if x>0 else 0, np.array(dfo[\"Resolution\"]))))"
      ],
      "execution_count": 9,
      "outputs": []
    },
    {
      "cell_type": "markdown",
      "metadata": {
        "id": "tFcxr_Qo2FAM"
      },
      "source": [
        "# Train-test split"
      ]
    },
    {
      "cell_type": "code",
      "metadata": {
        "id": "OwngI1uS2ISM"
      },
      "source": [
        "mpX_train, mpX_val, mpY_train, mpY_val = train_test_split(df, Rating_b, stratify=Rating_b, test_size=0.25)"
      ],
      "execution_count": 10,
      "outputs": []
    },
    {
      "cell_type": "code",
      "metadata": {
        "id": "QjO62OD72Jaw"
      },
      "source": [
        "mpX_train = mpX_train.values"
      ],
      "execution_count": 11,
      "outputs": []
    },
    {
      "cell_type": "markdown",
      "metadata": {
        "id": "C_lenXEm2L7L"
      },
      "source": [
        "# MPNeuron class"
      ]
    },
    {
      "cell_type": "code",
      "metadata": {
        "id": "Hecu0IFH1oPf"
      },
      "source": [
        "class MPNeuron:\n",
        "  def __init__(self):\n",
        "    self.b = 0\n",
        "\n",
        "  def model(self, x):\n",
        "    return int(np.sum(x)>self.b)\n",
        "\n",
        "  def predict(self, X):\n",
        "    Y_pred = []\n",
        "    for x in X:\n",
        "      Y_pred.append(self.model(x))\n",
        "    return Y_pred\n",
        "\n",
        "  def fit(self, X, Y, display_accuracy=True):\n",
        "    accuracy = []\n",
        "    for b in range(X.shape[1]):\n",
        "      self.b = b\n",
        "      Y_pred = self.predict(X)\n",
        "      accuracy.append(accuracy_score(Y_pred, Y))\n",
        "    k = np.argmax(accuracy)\n",
        "    self.b = k\n",
        "    if display_accuracy:\n",
        "      plt.plot(accuracy)   "
      ],
      "execution_count": 12,
      "outputs": []
    },
    {
      "cell_type": "code",
      "metadata": {
        "id": "qFe0GeNE1K7-"
      },
      "source": [
        "mpn = MPNeuron()\n",
        "mpn.fit(mpX_train, mpY_train, display_accuracy=False)"
      ],
      "execution_count": 13,
      "outputs": []
    },
    {
      "cell_type": "code",
      "metadata": {
        "colab": {
          "base_uri": "https://localhost:8080/"
        },
        "id": "KY0I0ns11swg",
        "outputId": "ca91f491-5e2d-4f2d-bcc1-9bcae458a53b"
      },
      "source": [
        "mpX_val = mpX_val.values\n",
        "print(accuracy_score(mpn.predict(mpX_val), mpY_val))"
      ],
      "execution_count": 14,
      "outputs": [
        {
          "output_type": "stream",
          "text": [
            "0.5813953488372093\n"
          ],
          "name": "stdout"
        }
      ]
    }
  ]
}